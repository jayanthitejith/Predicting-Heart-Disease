{
  "nbformat": 4,
  "nbformat_minor": 0,
  "metadata": {
    "colab": {
      "name": "HD-PREDICTION-GP.ipynb",
      "provenance": [],
      "collapsed_sections": []
    },
    "kernelspec": {
      "name": "python3",
      "display_name": "Python 3"
    }
  },
  "cells": [
    {
      "cell_type": "markdown",
      "metadata": {
        "id": "czMEC9NfSuxy"
      },
      "source": [
        "# **PREDICTING HEART DISEASE FROM CLINICAL AND LABORATORIAL DATA USING KNN**"
      ]
    },
    {
      "cell_type": "markdown",
      "metadata": {
        "id": "FtMBecknGOmd"
      },
      "source": [
        "## **INTRODUCTION**\n",
        "### Name: Tejith J"
      ]
    },
    {
      "cell_type": "markdown",
      "metadata": {
        "id": "uwkYjqMeOLd6"
      },
      "source": [
        "Importations:"
      ]
    },
    {
      "cell_type": "code",
      "metadata": {
        "id": "jjCgyWzrNYy1"
      },
      "source": [
        "import pandas as pd\n",
        "import numpy as np\n",
        "import matplotlib.pyplot as plt\n",
        "import seaborn as sns\n",
        "from sklearn.model_selection import train_test_split\n",
        "from sklearn.preprocessing import StandardScaler\n",
        "from sklearn.neighbors import KNeighborsClassifier\n",
        "from sklearn.model_selection import GridSearchCV\n",
        "from sklearn import metrics\n",
        "%matplotlib inline"
      ],
      "execution_count": null,
      "outputs": []
    },
    {
      "cell_type": "markdown",
      "metadata": {
        "id": "VhBGX_r0OQB3"
      },
      "source": [
        "Loading the dataset:"
      ]
    },
    {
      "cell_type": "code",
      "metadata": {
        "id": "seZytjvgOWvg",
        "colab": {
          "base_uri": "https://localhost:8080/",
          "height": 203
        },
        "outputId": "1eff947d-8916-4e24-e257-76d92a1ed3ea"
      },
      "source": [
        "data = pd.read_csv('/content/heart.csv')\n",
        "data.head()"
      ],
      "execution_count": 35,
      "outputs": [
        {
          "output_type": "execute_result",
          "data": {
            "text/html": [
              "<div>\n",
              "<style scoped>\n",
              "    .dataframe tbody tr th:only-of-type {\n",
              "        vertical-align: middle;\n",
              "    }\n",
              "\n",
              "    .dataframe tbody tr th {\n",
              "        vertical-align: top;\n",
              "    }\n",
              "\n",
              "    .dataframe thead th {\n",
              "        text-align: right;\n",
              "    }\n",
              "</style>\n",
              "<table border=\"1\" class=\"dataframe\">\n",
              "  <thead>\n",
              "    <tr style=\"text-align: right;\">\n",
              "      <th></th>\n",
              "      <th>age</th>\n",
              "      <th>sex</th>\n",
              "      <th>cp</th>\n",
              "      <th>trestbps</th>\n",
              "      <th>chol</th>\n",
              "      <th>fbs</th>\n",
              "      <th>restecg</th>\n",
              "      <th>thalach</th>\n",
              "      <th>exang</th>\n",
              "      <th>oldpeak</th>\n",
              "      <th>slope</th>\n",
              "      <th>ca</th>\n",
              "      <th>thal</th>\n",
              "      <th>target</th>\n",
              "    </tr>\n",
              "  </thead>\n",
              "  <tbody>\n",
              "    <tr>\n",
              "      <th>0</th>\n",
              "      <td>63</td>\n",
              "      <td>1</td>\n",
              "      <td>3</td>\n",
              "      <td>145</td>\n",
              "      <td>233</td>\n",
              "      <td>1</td>\n",
              "      <td>0</td>\n",
              "      <td>150</td>\n",
              "      <td>0</td>\n",
              "      <td>2.3</td>\n",
              "      <td>0</td>\n",
              "      <td>0</td>\n",
              "      <td>1</td>\n",
              "      <td>1</td>\n",
              "    </tr>\n",
              "    <tr>\n",
              "      <th>1</th>\n",
              "      <td>37</td>\n",
              "      <td>1</td>\n",
              "      <td>2</td>\n",
              "      <td>130</td>\n",
              "      <td>250</td>\n",
              "      <td>0</td>\n",
              "      <td>1</td>\n",
              "      <td>187</td>\n",
              "      <td>0</td>\n",
              "      <td>3.5</td>\n",
              "      <td>0</td>\n",
              "      <td>0</td>\n",
              "      <td>2</td>\n",
              "      <td>1</td>\n",
              "    </tr>\n",
              "    <tr>\n",
              "      <th>2</th>\n",
              "      <td>41</td>\n",
              "      <td>0</td>\n",
              "      <td>1</td>\n",
              "      <td>130</td>\n",
              "      <td>204</td>\n",
              "      <td>0</td>\n",
              "      <td>0</td>\n",
              "      <td>172</td>\n",
              "      <td>0</td>\n",
              "      <td>1.4</td>\n",
              "      <td>2</td>\n",
              "      <td>0</td>\n",
              "      <td>2</td>\n",
              "      <td>1</td>\n",
              "    </tr>\n",
              "    <tr>\n",
              "      <th>3</th>\n",
              "      <td>56</td>\n",
              "      <td>1</td>\n",
              "      <td>1</td>\n",
              "      <td>120</td>\n",
              "      <td>236</td>\n",
              "      <td>0</td>\n",
              "      <td>1</td>\n",
              "      <td>178</td>\n",
              "      <td>0</td>\n",
              "      <td>0.8</td>\n",
              "      <td>2</td>\n",
              "      <td>0</td>\n",
              "      <td>2</td>\n",
              "      <td>1</td>\n",
              "    </tr>\n",
              "    <tr>\n",
              "      <th>4</th>\n",
              "      <td>57</td>\n",
              "      <td>0</td>\n",
              "      <td>0</td>\n",
              "      <td>120</td>\n",
              "      <td>354</td>\n",
              "      <td>0</td>\n",
              "      <td>1</td>\n",
              "      <td>163</td>\n",
              "      <td>1</td>\n",
              "      <td>0.6</td>\n",
              "      <td>2</td>\n",
              "      <td>0</td>\n",
              "      <td>2</td>\n",
              "      <td>1</td>\n",
              "    </tr>\n",
              "  </tbody>\n",
              "</table>\n",
              "</div>"
            ],
            "text/plain": [
              "   age  sex  cp  trestbps  chol  fbs  ...  exang  oldpeak  slope  ca  thal  target\n",
              "0   63    1   3       145   233    1  ...      0      2.3      0   0     1       1\n",
              "1   37    1   2       130   250    0  ...      0      3.5      0   0     2       1\n",
              "2   41    0   1       130   204    0  ...      0      1.4      2   0     2       1\n",
              "3   56    1   1       120   236    0  ...      0      0.8      2   0     2       1\n",
              "4   57    0   0       120   354    0  ...      1      0.6      2   0     2       1\n",
              "\n",
              "[5 rows x 14 columns]"
            ]
          },
          "metadata": {},
          "execution_count": 35
        }
      ]
    },
    {
      "cell_type": "markdown",
      "metadata": {
        "id": "LhgGZw1AGzfT"
      },
      "source": [
        "Shape:"
      ]
    },
    {
      "cell_type": "code",
      "metadata": {
        "id": "KmU2syYKFk1y",
        "colab": {
          "base_uri": "https://localhost:8080/"
        },
        "outputId": "d12aff22-4261-4187-d17d-08162ca28552"
      },
      "source": [
        "data.shape"
      ],
      "execution_count": 36,
      "outputs": [
        {
          "output_type": "execute_result",
          "data": {
            "text/plain": [
              "(303, 14)"
            ]
          },
          "metadata": {},
          "execution_count": 36
        }
      ]
    },
    {
      "cell_type": "markdown",
      "metadata": {
        "id": "nk2PuKGZG5Tw"
      },
      "source": [
        "Variables types:"
      ]
    },
    {
      "cell_type": "code",
      "metadata": {
        "id": "LoGRmPgCO0g6",
        "colab": {
          "base_uri": "https://localhost:8080/"
        },
        "outputId": "8fd4e635-0e3e-4d27-bb40-f45263a36fbc"
      },
      "source": [
        "data.dtypes"
      ],
      "execution_count": 37,
      "outputs": [
        {
          "output_type": "execute_result",
          "data": {
            "text/plain": [
              "age           int64\n",
              "sex           int64\n",
              "cp            int64\n",
              "trestbps      int64\n",
              "chol          int64\n",
              "fbs           int64\n",
              "restecg       int64\n",
              "thalach       int64\n",
              "exang         int64\n",
              "oldpeak     float64\n",
              "slope         int64\n",
              "ca            int64\n",
              "thal          int64\n",
              "target        int64\n",
              "dtype: object"
            ]
          },
          "metadata": {},
          "execution_count": 37
        }
      ]
    },
    {
      "cell_type": "markdown",
      "metadata": {
        "id": "C6c5r148PNFI"
      },
      "source": [
        "## **EDA AND PRE-PROCESSING**\n",
        "\n",
        "\n"
      ]
    },
    {
      "cell_type": "markdown",
      "metadata": {
        "id": "j_64CUspH51k"
      },
      "source": [
        "### Outcome variable count:"
      ]
    },
    {
      "cell_type": "code",
      "metadata": {
        "id": "sfAcAqE_HTHR",
        "colab": {
          "base_uri": "https://localhost:8080/",
          "height": 400
        },
        "outputId": "b888b47e-ec2b-490e-ec1c-676ca08a1962"
      },
      "source": [
        "sns.catplot(x = 'target', kind = 'count', data=data, palette='ch:.25')"
      ],
      "execution_count": 38,
      "outputs": [
        {
          "output_type": "execute_result",
          "data": {
            "text/plain": [
              "<seaborn.axisgrid.FacetGrid at 0x7f399bbd98d0>"
            ]
          },
          "metadata": {},
          "execution_count": 38
        },
        {
          "output_type": "display_data",
          "data": {
            "image/png": "[encoded data removed]",
            "text/plain": [
              "<Figure size 360x360 with 1 Axes>"
            ]
          },
          "metadata": {
            "needs_background": "light"
          }
        }
      ]
    },
    {
      "cell_type": "markdown",
      "metadata": {
        "id": "ShrdgxYRILA9"
      },
      "source": [
        "### Categorical predictive variables:"
      ]
    },
    {
      "cell_type": "markdown",
      "metadata": {
        "id": "X79rW6MIIUP9"
      },
      "source": [
        "sex:"
      ]
    },
    {
      "cell_type": "code",
      "metadata": {
        "id": "EwKpfDA_ImU5",
        "colab": {
          "base_uri": "https://localhost:8080/",
          "height": 400
        },
        "outputId": "f090496b-ed11-4f31-add6-5f8663b87129"
      },
      "source": [
        "sns.catplot(x='sex', kind = 'count', data=data, palette='ch:.25')"
      ],
      "execution_count": 40,
      "outputs": [
        {
          "output_type": "execute_result",
          "data": {
            "text/plain": [
              "<seaborn.axisgrid.FacetGrid at 0x7f399bb0e310>"
            ]
          },
          "metadata": {},
          "execution_count": 40
        },
        {
          "output_type": "display_data",
          "data": {
            "image/png": "[encoded data removed]",
            "text/plain": [
              "<Figure size 360x360 with 1 Axes>"
            ]
          },
          "metadata": {
            "needs_background": "light"
          }
        }
      ]
    },
    {
      "cell_type": "markdown",
      "metadata": {
        "id": "wDdW_oEOqQnl"
      },
      "source": [
        "cp:"
      ]
    },
    {
      "cell_type": "code",
      "metadata": {
        "id": "_-eHu_RiKBeM",
        "colab": {
          "base_uri": "https://localhost:8080/",
          "height": 400
        },
        "outputId": "f791de3e-f914-4bec-c578-a2e1a6da6f3b"
      },
      "source": [
        "sns.catplot(x = 'cp', kind = 'count', data=data, palette='ch:.25')"
      ],
      "execution_count": 41,
      "outputs": [
        {
          "output_type": "execute_result",
          "data": {
            "text/plain": [
              "<seaborn.axisgrid.FacetGrid at 0x7f399b907ed0>"
            ]
          },
          "metadata": {},
          "execution_count": 41
        },
        {
          "output_type": "display_data",
          "data": {
            "image/png": "[encoded data removed]",
            "text/plain": [
              "<Figure size 360x360 with 1 Axes>"
            ]
          },
          "metadata": {
            "needs_background": "light"
          }
        }
      ]
    },
    {
      "cell_type": "markdown",
      "metadata": {
        "id": "ovg-G0_BrN4-"
      },
      "source": [
        "fbs:"
      ]
    },
    {
      "cell_type": "code",
      "metadata": {
        "id": "K5LAP6SUK7bx",
        "colab": {
          "base_uri": "https://localhost:8080/",
          "height": 400
        },
        "outputId": "cbbcdd2f-67af-42f5-e7ae-c4d5209b0f7f"
      },
      "source": [
        "sns.catplot(x = 'fbs', kind = 'count', data=data, palette='ch:.25')"
      ],
      "execution_count": 42,
      "outputs": [
        {
          "output_type": "execute_result",
          "data": {
            "text/plain": [
              "<seaborn.axisgrid.FacetGrid at 0x7f399b8e2610>"
            ]
          },
          "metadata": {},
          "execution_count": 42
        },
        {
          "output_type": "display_data",
          "data": {
            "image/png": "[encoded data removed]",
            "text/plain": [
              "<Figure size 360x360 with 1 Axes>"
            ]
          },
          "metadata": {
            "needs_background": "light"
          }
        }
      ]
    },
    {
      "cell_type": "markdown",
      "metadata": {
        "id": "gKNHGfkArUlu"
      },
      "source": [
        "restecg:"
      ]
    },
    {
      "cell_type": "code",
      "metadata": {
        "id": "yb4yl_7MLJln",
        "colab": {
          "base_uri": "https://localhost:8080/",
          "height": 400
        },
        "outputId": "4af36b98-821d-465c-d69d-55883ec8e677"
      },
      "source": [
        "sns.catplot(x = 'restecg', kind = 'count', data=data, palette = 'ch:.25')"
      ],
      "execution_count": 43,
      "outputs": [
        {
          "output_type": "execute_result",
          "data": {
            "text/plain": [
              "<seaborn.axisgrid.FacetGrid at 0x7f399ba3f150>"
            ]
          },
          "metadata": {},
          "execution_count": 43
        },
        {
          "output_type": "display_data",
          "data": {
            "image/png": "[encoded data removed]",
            "text/plain": [
              "<Figure size 360x360 with 1 Axes>"
            ]
          },
          "metadata": {
            "needs_background": "light"
          }
        }
      ]
    },
    {
      "cell_type": "markdown",
      "metadata": {
        "id": "c6Dy05CPrXZt"
      },
      "source": [
        "exang:"
      ]
    },
    {
      "cell_type": "code",
      "metadata": {
        "id": "D7r-qjKML6Ow",
        "colab": {
          "base_uri": "https://localhost:8080/",
          "height": 400
        },
        "outputId": "28370e27-fcaf-49a5-e1c8-f7d6f4fcdf7e"
      },
      "source": [
        "sns.catplot(x='exang', kind='count', data=data, palette = 'ch:.25')"
      ],
      "execution_count": 44,
      "outputs": [
        {
          "output_type": "execute_result",
          "data": {
            "text/plain": [
              "<seaborn.axisgrid.FacetGrid at 0x7f399bad8e10>"
            ]
          },
          "metadata": {},
          "execution_count": 44
        },
        {
          "output_type": "display_data",
          "data": {
            "image/png": "[encoded data removed]",
            "text/plain": [
              "<Figure size 360x360 with 1 Axes>"
            ]
          },
          "metadata": {
            "needs_background": "light"
          }
        }
      ]
    },
    {
      "cell_type": "markdown",
      "metadata": {
        "id": "gMDNzp1ArbQT"
      },
      "source": [
        "slope:"
      ]
    },
    {
      "cell_type": "code",
      "metadata": {
        "id": "1AIm2KUaMASO",
        "colab": {
          "base_uri": "https://localhost:8080/",
          "height": 400
        },
        "outputId": "6f22e5ef-cbee-4a05-d1bc-9d2b60412661"
      },
      "source": [
        "sns.catplot(x = 'slope', kind='count', data=data, palette = 'ch:.25')"
      ],
      "execution_count": 45,
      "outputs": [
        {
          "output_type": "execute_result",
          "data": {
            "text/plain": [
              "<seaborn.axisgrid.FacetGrid at 0x7f39a04bd410>"
            ]
          },
          "metadata": {},
          "execution_count": 45
        },
        {
          "output_type": "display_data",
          "data": {
            "image/png": "[encoded data removed]",
            "text/plain": [
              "<Figure size 360x360 with 1 Axes>"
            ]
          },
          "metadata": {
            "needs_background": "light"
          }
        }
      ]
    },
    {
      "cell_type": "markdown",
      "metadata": {
        "id": "2B2QMZLurfN6"
      },
      "source": [
        "ca:"
      ]
    },
    {
      "cell_type": "code",
      "metadata": {
        "id": "a00BHvtbMhm2",
        "colab": {
          "base_uri": "https://localhost:8080/",
          "height": 400
        },
        "outputId": "0675adcf-01ee-4b46-aa4a-18d05d1d67a1"
      },
      "source": [
        "sns.catplot(x = 'ca', kind='count', data=data, palette = 'ch:.25')"
      ],
      "execution_count": 46,
      "outputs": [
        {
          "output_type": "execute_result",
          "data": {
            "text/plain": [
              "<seaborn.axisgrid.FacetGrid at 0x7f399b7d6bd0>"
            ]
          },
          "metadata": {},
          "execution_count": 46
        },
        {
          "output_type": "display_data",
          "data": {
            "image/png": "[encoded data removed]",
            "text/plain": [
              "<Figure size 360x360 with 1 Axes>"
            ]
          },
          "metadata": {
            "needs_background": "light"
          }
        }
      ]
    },
    {
      "cell_type": "markdown",
      "metadata": {
        "id": "9kQU7xA-rlNN"
      },
      "source": [
        "thal:"
      ]
    },
    {
      "cell_type": "code",
      "metadata": {
        "id": "XZnp7VBzM0qv",
        "colab": {
          "base_uri": "https://localhost:8080/",
          "height": 400
        },
        "outputId": "07c8ed04-e358-4247-ec5c-65dc445d7de4"
      },
      "source": [
        "sns.catplot(x = 'thal', kind = 'count', data=data, palette = 'ch:.25')"
      ],
      "execution_count": 47,
      "outputs": [
        {
          "output_type": "execute_result",
          "data": {
            "text/plain": [
              "<seaborn.axisgrid.FacetGrid at 0x7f399b771450>"
            ]
          },
          "metadata": {},
          "execution_count": 47
        },
        {
          "output_type": "display_data",
          "data": {
            "image/png": "[encoded data removed]",
            "text/plain": [
              "<Figure size 360x360 with 1 Axes>"
            ]
          },
          "metadata": {
            "needs_background": "light"
          }
        }
      ]
    },
    {
      "cell_type": "markdown",
      "metadata": {
        "id": "llO7BS8pM_Xh"
      },
      "source": [
        "### Distributional predictive variables:\n",
        "\n",
        "\n"
      ]
    },
    {
      "cell_type": "code",
      "metadata": {
        "id": "F9Wm8CBGOe9P",
        "colab": {
          "base_uri": "https://localhost:8080/",
          "height": 295
        },
        "outputId": "b2f60f18-536b-4b26-f390-18c5decaf6ba"
      },
      "source": [
        "data[['age', 'trestbps', 'chol', 'thalach', 'oldpeak']].describe()"
      ],
      "execution_count": 48,
      "outputs": [
        {
          "output_type": "execute_result",
          "data": {
            "text/html": [
              "<div>\n",
              "<style scoped>\n",
              "    .dataframe tbody tr th:only-of-type {\n",
              "        vertical-align: middle;\n",
              "    }\n",
              "\n",
              "    .dataframe tbody tr th {\n",
              "        vertical-align: top;\n",
              "    }\n",
              "\n",
              "    .dataframe thead th {\n",
              "        text-align: right;\n",
              "    }\n",
              "</style>\n",
              "<table border=\"1\" class=\"dataframe\">\n",
              "  <thead>\n",
              "    <tr style=\"text-align: right;\">\n",
              "      <th></th>\n",
              "      <th>age</th>\n",
              "      <th>trestbps</th>\n",
              "      <th>chol</th>\n",
              "      <th>thalach</th>\n",
              "      <th>oldpeak</th>\n",
              "    </tr>\n",
              "  </thead>\n",
              "  <tbody>\n",
              "    <tr>\n",
              "      <th>count</th>\n",
              "      <td>303.000000</td>\n",
              "      <td>303.000000</td>\n",
              "      <td>303.000000</td>\n",
              "      <td>303.000000</td>\n",
              "      <td>303.000000</td>\n",
              "    </tr>\n",
              "    <tr>\n",
              "      <th>mean</th>\n",
              "      <td>54.366337</td>\n",
              "      <td>131.623762</td>\n",
              "      <td>246.264026</td>\n",
              "      <td>149.646865</td>\n",
              "      <td>1.039604</td>\n",
              "    </tr>\n",
              "    <tr>\n",
              "      <th>std</th>\n",
              "      <td>9.082101</td>\n",
              "      <td>17.538143</td>\n",
              "      <td>51.830751</td>\n",
              "      <td>22.905161</td>\n",
              "      <td>1.161075</td>\n",
              "    </tr>\n",
              "    <tr>\n",
              "      <th>min</th>\n",
              "      <td>29.000000</td>\n",
              "      <td>94.000000</td>\n",
              "      <td>126.000000</td>\n",
              "      <td>71.000000</td>\n",
              "      <td>0.000000</td>\n",
              "    </tr>\n",
              "    <tr>\n",
              "      <th>25%</th>\n",
              "      <td>47.500000</td>\n",
              "      <td>120.000000</td>\n",
              "      <td>211.000000</td>\n",
              "      <td>133.500000</td>\n",
              "      <td>0.000000</td>\n",
              "    </tr>\n",
              "    <tr>\n",
              "      <th>50%</th>\n",
              "      <td>55.000000</td>\n",
              "      <td>130.000000</td>\n",
              "      <td>240.000000</td>\n",
              "      <td>153.000000</td>\n",
              "      <td>0.800000</td>\n",
              "    </tr>\n",
              "    <tr>\n",
              "      <th>75%</th>\n",
              "      <td>61.000000</td>\n",
              "      <td>140.000000</td>\n",
              "      <td>274.500000</td>\n",
              "      <td>166.000000</td>\n",
              "      <td>1.600000</td>\n",
              "    </tr>\n",
              "    <tr>\n",
              "      <th>max</th>\n",
              "      <td>77.000000</td>\n",
              "      <td>200.000000</td>\n",
              "      <td>564.000000</td>\n",
              "      <td>202.000000</td>\n",
              "      <td>6.200000</td>\n",
              "    </tr>\n",
              "  </tbody>\n",
              "</table>\n",
              "</div>"
            ],
            "text/plain": [
              "              age    trestbps        chol     thalach     oldpeak\n",
              "count  303.000000  303.000000  303.000000  303.000000  303.000000\n",
              "mean    54.366337  131.623762  246.264026  149.646865    1.039604\n",
              "std      9.082101   17.538143   51.830751   22.905161    1.161075\n",
              "min     29.000000   94.000000  126.000000   71.000000    0.000000\n",
              "25%     47.500000  120.000000  211.000000  133.500000    0.000000\n",
              "50%     55.000000  130.000000  240.000000  153.000000    0.800000\n",
              "75%     61.000000  140.000000  274.500000  166.000000    1.600000\n",
              "max     77.000000  200.000000  564.000000  202.000000    6.200000"
            ]
          },
          "metadata": {},
          "execution_count": 48
        }
      ]
    },
    {
      "cell_type": "code",
      "metadata": {
        "id": "SrTyRET3ToAN",
        "colab": {
          "base_uri": "https://localhost:8080/",
          "height": 386
        },
        "outputId": "6edfba24-267c-438e-9cb3-59d9a24b205a"
      },
      "source": [
        "sns.displot(x = 'age', multiple='stack', data=data, hue='target', palette='ch:.25')"
      ],
      "execution_count": 49,
      "outputs": [
        {
          "output_type": "execute_result",
          "data": {
            "text/plain": [
              "<seaborn.axisgrid.FacetGrid at 0x7f399b6ef810>"
            ]
          },
          "metadata": {},
          "execution_count": 49
        },
        {
          "output_type": "display_data",
          "data": {
            "image/png": "[encoded data removed]",
            "text/plain": [
              "<Figure size 402.375x360 with 1 Axes>"
            ]
          },
          "metadata": {
            "needs_background": "light"
          }
        }
      ]
    },
    {
      "cell_type": "code",
      "metadata": {
        "id": "B-TEMbYUO5RA",
        "colab": {
          "base_uri": "https://localhost:8080/",
          "height": 386
        },
        "outputId": "4bcbe1ab-cfc7-4d36-9523-c2e24697b2ac"
      },
      "source": [
        "sns.displot(x='trestbps', multiple='stack', data=data, hue='target', palette='ch:.25')"
      ],
      "execution_count": 50,
      "outputs": [
        {
          "output_type": "execute_result",
          "data": {
            "text/plain": [
              "<seaborn.axisgrid.FacetGrid at 0x7f399baced90>"
            ]
          },
          "metadata": {},
          "execution_count": 50
        },
        {
          "output_type": "display_data",
          "data": {
            "image/png": "[encoded data removed]",
            "text/plain": [
              "<Figure size 402.375x360 with 1 Axes>"
            ]
          },
          "metadata": {
            "needs_background": "light"
          }
        }
      ]
    },
    {
      "cell_type": "code",
      "metadata": {
        "id": "5q9pzVLTQhKh",
        "colab": {
          "base_uri": "https://localhost:8080/",
          "height": 386
        },
        "outputId": "cda04912-9411-454b-f66e-6cda409910ac"
      },
      "source": [
        "sns.displot(x='chol', multiple='stack', data=data, hue='target', palette = 'ch:.25')"
      ],
      "execution_count": 51,
      "outputs": [
        {
          "output_type": "execute_result",
          "data": {
            "text/plain": [
              "<seaborn.axisgrid.FacetGrid at 0x7f399b7542d0>"
            ]
          },
          "metadata": {},
          "execution_count": 51
        },
        {
          "output_type": "display_data",
          "data": {
            "image/png": "[encoded data removed]",
            "text/plain": [
              "<Figure size 402.375x360 with 1 Axes>"
            ]
          },
          "metadata": {
            "needs_background": "light"
          }
        }
      ]
    },
    {
      "cell_type": "code",
      "metadata": {
        "id": "M2SwCb04QsND",
        "colab": {
          "base_uri": "https://localhost:8080/",
          "height": 386
        },
        "outputId": "915233c4-a852-4942-92a2-c4273333e304"
      },
      "source": [
        "sns.displot(x = 'thalach', multiple='stack', data=data, hue='target', palette='ch:.25')"
      ],
      "execution_count": 52,
      "outputs": [
        {
          "output_type": "execute_result",
          "data": {
            "text/plain": [
              "<seaborn.axisgrid.FacetGrid at 0x7f399b531f90>"
            ]
          },
          "metadata": {},
          "execution_count": 52
        },
        {
          "output_type": "display_data",
          "data": {
            "image/png": "[encoded data removed]",
            "text/plain": [
              "<Figure size 402.375x360 with 1 Axes>"
            ]
          },
          "metadata": {
            "needs_background": "light"
          }
        }
      ]
    },
    {
      "cell_type": "code",
      "metadata": {
        "id": "65CZvnWdRRPi",
        "colab": {
          "base_uri": "https://localhost:8080/",
          "height": 386
        },
        "outputId": "ff13380d-b1aa-4206-f756-72ac3dbe2078"
      },
      "source": [
        "sns.displot(x='oldpeak', multiple='stack', data=data, hue='target', palette='ch:.25')"
      ],
      "execution_count": 53,
      "outputs": [
        {
          "output_type": "execute_result",
          "data": {
            "text/plain": [
              "<seaborn.axisgrid.FacetGrid at 0x7f399b355910>"
            ]
          },
          "metadata": {},
          "execution_count": 53
        },
        {
          "output_type": "display_data",
          "data": {
            "image/png": "[encoded data removed]",
            "text/plain": [
              "<Figure size 402.375x360 with 1 Axes>"
            ]
          },
          "metadata": {
            "needs_background": "light"
          }
        }
      ]
    },
    {
      "cell_type": "markdown",
      "metadata": {
        "id": "ssRTg0DGRcqo"
      },
      "source": [
        "## **SPLITTING AND PRE-PROCESSING:**"
      ]
    },
    {
      "cell_type": "markdown",
      "metadata": {
        "id": "BPCxzv6Cp56_"
      },
      "source": [
        "Defining x_train, x_test, y_train and y_test:"
      ]
    },
    {
      "cell_type": "code",
      "metadata": {
        "id": "lTcZnUktTDWR"
      },
      "source": [
        "x = data.drop('target', axis=1) \n",
        "y = data['target']\n",
        "x_train, x_test, y_train, y_test = train_test_split(x,y, test_size=0.2, random_state=42)"
      ],
      "execution_count": 54,
      "outputs": []
    },
    {
      "cell_type": "markdown",
      "metadata": {
        "id": "ENxqQf43qCJS"
      },
      "source": [
        "Scaling the data:"
      ]
    },
    {
      "cell_type": "code",
      "metadata": {
        "id": "ilOoDJJ5SlxT"
      },
      "source": [
        "sc = StandardScaler().fit(x_train) \n",
        "x_train = sc.transform(x_train)\n",
        "x_test = sc.transform(x_test)"
      ],
      "execution_count": 55,
      "outputs": []
    },
    {
      "cell_type": "markdown",
      "metadata": {
        "id": "cghXDXKdnqRw"
      },
      "source": [
        "## **TRAINING THE MODEL:**"
      ]
    },
    {
      "cell_type": "markdown",
      "metadata": {
        "id": "G3iVIru4oGGV"
      },
      "source": [
        "Parameters for grid search:"
      ]
    },
    {
      "cell_type": "code",
      "metadata": {
        "id": "qgmdxuHgSwU5"
      },
      "source": [
        "knn = KNeighborsClassifier()\n",
        "parameters = {'n_neighbors': [3,5,7,9,11], 'weights': ['uniform', 'distance']}"
      ],
      "execution_count": 56,
      "outputs": []
    },
    {
      "cell_type": "markdown",
      "metadata": {
        "id": "M0h8pdqGoKAe"
      },
      "source": [
        "Fiting training data and grid searching:"
      ]
    },
    {
      "cell_type": "code",
      "metadata": {
        "id": "8ZmzaaIfVWt9",
        "colab": {
          "base_uri": "https://localhost:8080/"
        },
        "outputId": "1716b4ba-6506-47f1-ceab-53c2897fb684"
      },
      "source": [
        "grid = GridSearchCV(knn, parameters, cv=4, scoring='accuracy')\n",
        "grid.fit(x_train, y_train)\n"
      ],
      "execution_count": 57,
      "outputs": [
        {
          "output_type": "execute_result",
          "data": {
            "text/plain": [
              "GridSearchCV(cv=4, error_score=nan,\n",
              "             estimator=KNeighborsClassifier(algorithm='auto', leaf_size=30,\n",
              "                                            metric='minkowski',\n",
              "                                            metric_params=None, n_jobs=None,\n",
              "                                            n_neighbors=5, p=2,\n",
              "                                            weights='uniform'),\n",
              "             iid='deprecated', n_jobs=None,\n",
              "             param_grid={'n_neighbors': [3, 5, 7, 9, 11],\n",
              "                         'weights': ['uniform', 'distance']},\n",
              "             pre_dispatch='2*n_jobs', refit=True, return_train_score=False,\n",
              "             scoring='accuracy', verbose=0)"
            ]
          },
          "metadata": {},
          "execution_count": 57
        }
      ]
    },
    {
      "cell_type": "markdown",
      "metadata": {
        "id": "2t894auSop-o"
      },
      "source": [
        "Displayng best parameters:"
      ]
    },
    {
      "cell_type": "code",
      "metadata": {
        "id": "9mBTc_stW8rU",
        "colab": {
          "base_uri": "https://localhost:8080/"
        },
        "outputId": "116c6d64-0407-46cf-da44-134d027de8e2"
      },
      "source": [
        "print(grid.best_params_)"
      ],
      "execution_count": 58,
      "outputs": [
        {
          "output_type": "stream",
          "name": "stdout",
          "text": [
            "{'n_neighbors': 5, 'weights': 'uniform'}\n"
          ]
        }
      ]
    },
    {
      "cell_type": "markdown",
      "metadata": {
        "id": "GKUsyoBPos4s"
      },
      "source": [
        "Picking the best model:"
      ]
    },
    {
      "cell_type": "code",
      "metadata": {
        "id": "QqrYNCqEn-zW"
      },
      "source": [
        "model = grid.best_estimator_"
      ],
      "execution_count": 59,
      "outputs": []
    },
    {
      "cell_type": "markdown",
      "metadata": {
        "id": "cn62oN6AoUDR"
      },
      "source": [
        "## **EVALUATING THE MODEL:**"
      ]
    },
    {
      "cell_type": "markdown",
      "metadata": {
        "id": "S8hx4t6Towzw"
      },
      "source": [
        "Model score on test data:"
      ]
    },
    {
      "cell_type": "code",
      "metadata": {
        "id": "-cNXhzHfXA4a",
        "colab": {
          "base_uri": "https://localhost:8080/"
        },
        "outputId": "76c30b17-85ca-4888-cda3-aa4fb1f89d60"
      },
      "source": [
        "model.score(x_test, y_test)"
      ],
      "execution_count": 60,
      "outputs": [
        {
          "output_type": "execute_result",
          "data": {
            "text/plain": [
              "0.9016393442622951"
            ]
          },
          "metadata": {},
          "execution_count": 60
        }
      ]
    },
    {
      "cell_type": "markdown",
      "metadata": {
        "id": "OCRtE-yBo44k"
      },
      "source": [
        "Confusion matrix:"
      ]
    },
    {
      "cell_type": "code",
      "metadata": {
        "id": "o4IBWo2NaUbJ",
        "colab": {
          "base_uri": "https://localhost:8080/",
          "height": 265
        },
        "outputId": "0267f5cc-b198-4ca1-f333-b5704fea6425"
      },
      "source": [
        "predictions = model.predict(x_test)\n",
        "cm = metrics.confusion_matrix(y_test, predictions)\n",
        "cm = pd.DataFrame(cm)\n",
        "sns.heatmap(cm, annot=True)\n",
        "plt.show()"
      ],
      "execution_count": 61,
      "outputs": [
        {
          "output_type": "display_data",
          "data": {
            "image/png": "[encoded data removed]",
            "text/plain": [
              "<Figure size 432x288 with 2 Axes>"
            ]
          },
          "metadata": {
            "needs_background": "light"
          }
        }
      ]
    },
    {
      "cell_type": "markdown",
      "metadata": {
        "id": "ptduARW6pW_B"
      },
      "source": [
        "Calculating sensitivity, specificity, PPV and NPV:"
      ]
    },
    {
      "cell_type": "code",
      "metadata": {
        "id": "UOOarOZcZfbC"
      },
      "source": [
        "TP = 28\n",
        "FP = 2\n",
        "TN = 27\n",
        "FN = 4\n",
        "sensitivity = TP / (TP+FN) * 100\n",
        "specificity = TN / (TN+FP) * 100\n",
        "ppv = TP / (TP+FN) * 100\n",
        "npv = TN / (TN+FN) * 100\n"
      ],
      "execution_count": 62,
      "outputs": []
    },
    {
      "cell_type": "markdown",
      "metadata": {
        "id": "Xl9jGe4Npdzw"
      },
      "source": [
        "Printing sensitivity, specificity, PPV and NPV:"
      ]
    },
    {
      "cell_type": "code",
      "metadata": {
        "id": "XkFWdr2abB6N",
        "colab": {
          "base_uri": "https://localhost:8080/"
        },
        "outputId": "402663e4-6850-4603-e30c-1703c5f8bd25"
      },
      "source": [
        "print('Sensitivity:', sensitivity,'% ','\\nSpecificity:', specificity,'% ','\\npositive predictive value:',ppv,'% ','\\nnegative predictive value:',npv,'%' )"
      ],
      "execution_count": 65,
      "outputs": [
        {
          "output_type": "stream",
          "name": "stdout",
          "text": [
            "Sensitivity: 87.5 %  \n",
            "Specificity: 93.10344827586206 %  \n",
            "positive predictive value: 87.5 %  \n",
            "negative predictive value: 87.09677419354838 %\n"
          ]
        }
      ]
    },
    {
      "cell_type": "markdown",
      "metadata": {
        "id": "BTZI1JOBpjK8"
      },
      "source": [
        "AUC score:"
      ]
    },
    {
      "cell_type": "code",
      "metadata": {
        "id": "zmArXtPTjm3x",
        "colab": {
          "base_uri": "https://localhost:8080/"
        },
        "outputId": "ff96d20f-b43b-449f-bbf5-6b91279ba093"
      },
      "source": [
        "probs = model.predict_proba(x_test)[:,1]\n",
        "auc = metrics.roc_auc_score(y_test, probs)\n",
        "print(auc)"
      ],
      "execution_count": 68,
      "outputs": [
        {
          "output_type": "stream",
          "name": "stdout",
          "text": [
            "0.9154094827586208\n"
          ]
        }
      ]
    },
    {
      "cell_type": "markdown",
      "metadata": {
        "id": "-juA2B_-poHk"
      },
      "source": [
        "ROC curve:"
      ]
    },
    {
      "cell_type": "code",
      "metadata": {
        "id": "Vz9c_zVfmFyQ",
        "colab": {
          "base_uri": "https://localhost:8080/",
          "height": 265
        },
        "outputId": "66638e1b-e3a6-4681-f3ae-94d0857f84b9"
      },
      "source": [
        "fpr, tpr, _ = metrics.roc_curve(y_test, probs)\n",
        "plt.figure()\n",
        "plt.grid()\n",
        "plt.plot(fpr, tpr)\n",
        "plt.plot([0, 1], [0, 1])\n",
        "plt.show()"
      ],
      "execution_count": 69,
      "outputs": [
        {
          "output_type": "display_data",
          "data": {
            "image/png": "[encoded data removed]",
            "text/plain": [
              "<Figure size 432x288 with 1 Axes>"
            ]
          },
          "metadata": {
            "needs_background": "light"
          }
        }
      ]
    },
    {
      "cell_type": "code",
      "metadata": {
        "id": "9GRieWbMm42y"
      },
      "source": [
        ""
      ],
      "execution_count": null,
      "outputs": []
    }
  ]
}